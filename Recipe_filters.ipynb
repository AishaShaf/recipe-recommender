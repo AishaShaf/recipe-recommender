{
 "cells": [
  {
   "cell_type": "code",
   "execution_count": null,
   "metadata": {},
   "outputs": [],
   "source": [
    "import pandas as pd\n",
    "\n",
    "def filter_recipes_by_ingredients(dataframe, input_ingredients):\n",
    "    # Convert input ingredients to lowercase and split them into a list\n",
    "    input_ingredients = [ingredient.strip().lower() for ingredient in input_ingredients.split(',')]\n",
    "\n",
    "    # Convert ingredients in the dataframe to lowercase\n",
    "    dataframe['ingredients_lower'] = dataframe['ingredients'].apply(lambda x: [ingredient.strip().lower() for ingredient in x.split(',')])\n",
    "\n",
    "    # Check if any ingredient from the input is present in the recipe's ingredients\n",
    "    mask = dataframe['ingredients_lower'].apply(lambda x: any(ingredient in x for ingredient in input_ingredients))\n",
    "\n",
    "    # Filter the dataframe based on the mask\n",
    "    filtered_recipes = dataframe[mask][['name', 'ingredients', 'steps']]\n",
    "\n",
    "    # Drop the temporary 'ingredients_lower' column\n",
    "    dataframe.drop(columns=['ingredients_lower'], inplace=True)\n",
    "\n",
    "    return filtered_recipes\n",
    "\n",
    "# Example usage:\n",
    "recipes_df = pd.read_csv('recipes_w_search_terms.csv')  # Assuming you have already loaded your dataset\n",
    "input_ingredients = 'chicken, onion, garlic'  # Replace with your desired input\n",
    "\n",
    "filtered_recipes = filter_recipes_by_ingredients(recipes_df, input_ingredients)\n",
    "print(filtered_recipes)\n"
   ]
  }
 ],
 "metadata": {
  "language_info": {
   "name": "python"
  }
 },
 "nbformat": 4,
 "nbformat_minor": 2
}
