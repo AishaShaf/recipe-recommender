{
 "cells": [
  {
   "cell_type": "code",
<<<<<<< HEAD
   "execution_count": 2,
||||||| bfeb08f
   "execution_count": 3,
=======
   "execution_count": null,
>>>>>>> data_exploration_cleaning
   "metadata": {},
   "outputs": [],
   "source": [
    "import pandas as pd\n",
    "import ast\n",
    "import re\n",
    "\n",
    "# Set the display options to show all columns and rows\n",
<<<<<<< HEAD
    "pd.set_option(\"display.max_columns\", None)\n",
    "pd.set_option(\"display.max_rows\", None)\n",
    "pd.set_option(\"display.max_colwidth\", None)\n",
    "\n",
    "original_dataframe = pd.read_csv(\"recipes_w_search_terms.csv\")"
   ]
  },
  {
   "cell_type": "code",
   "execution_count": 4,
   "metadata": {},
   "outputs": [],
   "source": [
    "# drop duplicates\n",
    "df = original_dataframe.copy()\n",
    "df.drop_duplicates(\n",
    "    subset=[\"name\", \"ingredients\", \"description\"], keep=\"first\", inplace=True\n",
    ")"
   ]
  },
  {
   "cell_type": "code",
   "execution_count": 5,
   "metadata": {},
   "outputs": [
    {
     "name": "stdout",
     "output_type": "stream",
     "text": [
      "494963\n",
      "494777\n"
     ]
    }
   ],
   "source": [
    "# see difference in the size of the dfs\n",
    "print(len(original_dataframe))\n",
    "print(len(df))"
   ]
  },
  {
   "cell_type": "code",
   "execution_count": 8,
   "metadata": {},
   "outputs": [],
   "source": [
    "# creating a smaller test-dataframe\n",
    "test_df = df.iloc[:10, :]"
   ]
  },
  {
   "cell_type": "code",
   "execution_count": null,
   "metadata": {},
   "outputs": [],
   "source": [
    "def filter_basic_ingredients(ingredient_list):\n",
    "    basic_ingredients = ['\"salt\"', '\"oil\"', '\"water\"']\n",
    "    return [\n",
    "        ingredient for ingredient in ingredient_list if ingredient in basic_ingredients\n",
    "    ]\n",
    "\n",
    "\n",
    "test_df[\"basic_ingredients\"] = test_df[\"ingredients\"].apply(filter_basic_ingredients)\n",
    "\n",
    "\n",
    "test_df"
   ]
  },
  {
   "cell_type": "code",
   "execution_count": 7,
   "metadata": {},
   "outputs": [
    {
     "data": {
      "text/html": [
       "<div>\n",
       "<style scoped>\n",
       "    .dataframe tbody tr th:only-of-type {\n",
       "        vertical-align: middle;\n",
       "    }\n",
       "\n",
       "    .dataframe tbody tr th {\n",
       "        vertical-align: top;\n",
       "    }\n",
       "\n",
       "    .dataframe thead th {\n",
       "        text-align: right;\n",
       "    }\n",
       "</style>\n",
       "<table border=\"1\" class=\"dataframe\">\n",
       "  <thead>\n",
       "    <tr style=\"text-align: right;\">\n",
       "      <th></th>\n",
       "      <th>id</th>\n",
       "      <th>name</th>\n",
       "      <th>description</th>\n",
       "      <th>ingredients</th>\n",
       "      <th>ingredients_raw_str</th>\n",
       "      <th>serving_size</th>\n",
       "      <th>servings</th>\n",
       "      <th>steps</th>\n",
       "      <th>tags</th>\n",
       "      <th>search_terms</th>\n",
       "      <th>time-to-make</th>\n",
       "    </tr>\n",
       "  </thead>\n",
       "  <tbody>\n",
       "    <tr>\n",
       "      <th>0</th>\n",
       "      <td>96313</td>\n",
       "      <td>Grilled Garlic Cheese Grits</td>\n",
       "      <td>We love grits, this is another good way to serve them. A great alternative to a baked potato when served with grilled steak or chicken. I belive this recipe could be made with instant grits.The 2 1/2 hours for refrigeration is not include in time. The recipe comes from Tast of Home's Light and Tasty.</td>\n",
       "      <td>['water', 'grits', 'salt', 'cheddar cheese', 'garlic', 'olive oil']</td>\n",
       "      <td>[\"4   cups    water\",\"1   cup   uncooked old fashion grits\",\"1   teaspoon    salt\",\"4   ounces   shredded cheddar cheese\",\"1 -2   clove    garlic, minced \",\"1   tablespoon    olive oil\"]</td>\n",
       "      <td>1 (155 g)</td>\n",
       "      <td>8</td>\n",
       "      <td>['I a sauce pan, bring water to a boil; slowly add grits and salt, stirring constantly; Reduce heat:simmer, uncovered, for 40-45 minutes or untill thickened, stirrin occasionally.', 'Add cheese and garlic; stir until cheese is melted, Spray 9-inch baking dish with nonstick cooking spray; Cover and refrigerate for 2 to 2 1/2 hours or until frim.', 'Before starting the grill, coat the grill rack with nonstick cooking spray; Cut the grits into 3-inch squares; Brush both sides with olive oil.', 'Grill, covered, over medium heat for 4 to 6 minutes on each side or until lightly browned.']</td>\n",
       "      <td>['time-to-make', 'course', 'main-ingredient', 'preparation', 'occasion', 'side-dishes', 'eggs-dairy', 'refrigerator', 'diabetic', 'vegetarian', 'grains', 'cheese', 'stove-top', 'dietary', 'low-cholesterol', 'low-calorie', 'comfort-food', 'low-carb', 'low-in-something', 'pasta-rice-and-grains', 'brunch', 'taste-mood', 'equipment', 'presentation', 'served-hot', '4-hours-or-less']</td>\n",
       "      <td>{'diabetic', 'low-calorie', 'vegetarian', 'low-carb', 'side'}</td>\n",
       "      <td>[4-hours-or-less]</td>\n",
       "    </tr>\n",
       "  </tbody>\n",
       "</table>\n",
       "</div>"
      ],
      "text/plain": [
       "      id                         name  \\\n",
       "0  96313  Grilled Garlic Cheese Grits   \n",
       "\n",
       "                                                                                                                                                                                                                                                                                                     description  \\\n",
       "0  We love grits, this is another good way to serve them. A great alternative to a baked potato when served with grilled steak or chicken. I belive this recipe could be made with instant grits.The 2 1/2 hours for refrigeration is not include in time. The recipe comes from Tast of Home's Light and Tasty.   \n",
       "\n",
       "                                                           ingredients  \\\n",
       "0  ['water', 'grits', 'salt', 'cheddar cheese', 'garlic', 'olive oil']   \n",
       "\n",
       "                                                                                                                                                                          ingredients_raw_str  \\\n",
       "0  [\"4   cups    water\",\"1   cup   uncooked old fashion grits\",\"1   teaspoon    salt\",\"4   ounces   shredded cheddar cheese\",\"1 -2   clove    garlic, minced \",\"1   tablespoon    olive oil\"]   \n",
       "\n",
       "  serving_size  servings  \\\n",
       "0    1 (155 g)         8   \n",
       "\n",
       "                                                                                                                                                                                                                                                                                                                                                                                                                                                                                                                                                                                                           steps  \\\n",
       "0  ['I a sauce pan, bring water to a boil; slowly add grits and salt, stirring constantly; Reduce heat:simmer, uncovered, for 40-45 minutes or untill thickened, stirrin occasionally.', 'Add cheese and garlic; stir until cheese is melted, Spray 9-inch baking dish with nonstick cooking spray; Cover and refrigerate for 2 to 2 1/2 hours or until frim.', 'Before starting the grill, coat the grill rack with nonstick cooking spray; Cut the grits into 3-inch squares; Brush both sides with olive oil.', 'Grill, covered, over medium heat for 4 to 6 minutes on each side or until lightly browned.']   \n",
       "\n",
       "                                                                                                                                                                                                                                                                                                                                                                                           tags  \\\n",
       "0  ['time-to-make', 'course', 'main-ingredient', 'preparation', 'occasion', 'side-dishes', 'eggs-dairy', 'refrigerator', 'diabetic', 'vegetarian', 'grains', 'cheese', 'stove-top', 'dietary', 'low-cholesterol', 'low-calorie', 'comfort-food', 'low-carb', 'low-in-something', 'pasta-rice-and-grains', 'brunch', 'taste-mood', 'equipment', 'presentation', 'served-hot', '4-hours-or-less']   \n",
       "\n",
       "                                                    search_terms  \\\n",
       "0  {'diabetic', 'low-calorie', 'vegetarian', 'low-carb', 'side'}   \n",
       "\n",
       "        time-to-make  \n",
       "0  [4-hours-or-less]  "
      ]
     },
     "execution_count": 7,
     "metadata": {},
     "output_type": "execute_result"
    }
   ],
   "source": [
||||||| bfeb08f
    "pd.set_option(\"display.max_columns\", None)\n",
    "pd.set_option(\"display.max_rows\", None)\n",
    "pd.set_option(\"display.max_colwidth\", None)"
   ]
  },
  {
   "cell_type": "code",
   "execution_count": null,
   "metadata": {},
   "outputs": [],
   "source": [
    "# data import aisha\n",
    "original_dataframe = pd.read_csv(\"recipes_w_search_terms.csv\")"
   ]
  },
  {
   "cell_type": "code",
   "execution_count": 4,
   "metadata": {},
   "outputs": [],
   "source": [
    "# data import katie\n",
    "original_dataframe = pd.read_csv(\n",
    "    r\"C:\\Users\\k.ritscher\\Desktop\\Bootcamp\\Final_Project\\archive\\recipes_w_search_terms.csv\"\n",
    ")"
   ]
  },
  {
   "cell_type": "code",
   "execution_count": 5,
   "metadata": {},
   "outputs": [],
   "source": [
    "# drop duplicates\n",
    "df = original_dataframe.copy()\n",
    "df.drop_duplicates(\n",
    "    subset=[\"name\", \"ingredients\", \"description\"], keep=\"first\", inplace=True\n",
    ")"
   ]
  },
  {
   "cell_type": "code",
   "execution_count": 6,
   "metadata": {},
   "outputs": [
    {
     "name": "stdout",
     "output_type": "stream",
     "text": [
      "494963\n",
      "494777\n"
     ]
    }
   ],
   "source": [
    "# see difference in the size of the dfs\n",
    "print(len(original_dataframe))\n",
    "print(len(df))"
   ]
  },
  {
   "cell_type": "code",
   "execution_count": 7,
   "metadata": {},
   "outputs": [
    {
     "data": {
      "text/html": [
       "<div>\n",
       "<style scoped>\n",
       "    .dataframe tbody tr th:only-of-type {\n",
       "        vertical-align: middle;\n",
       "    }\n",
       "\n",
       "    .dataframe tbody tr th {\n",
       "        vertical-align: top;\n",
       "    }\n",
       "\n",
       "    .dataframe thead th {\n",
       "        text-align: right;\n",
       "    }\n",
       "</style>\n",
       "<table border=\"1\" class=\"dataframe\">\n",
       "  <thead>\n",
       "    <tr style=\"text-align: right;\">\n",
       "      <th></th>\n",
       "      <th>id</th>\n",
       "      <th>name</th>\n",
       "      <th>description</th>\n",
       "      <th>ingredients</th>\n",
       "      <th>ingredients_raw_str</th>\n",
       "      <th>serving_size</th>\n",
       "      <th>servings</th>\n",
       "      <th>steps</th>\n",
       "      <th>tags</th>\n",
       "      <th>search_terms</th>\n",
       "      <th>time-to-make</th>\n",
       "    </tr>\n",
       "  </thead>\n",
       "  <tbody>\n",
       "    <tr>\n",
       "      <th>0</th>\n",
       "      <td>96313</td>\n",
       "      <td>Grilled Garlic Cheese Grits</td>\n",
       "      <td>We love grits, this is another good way to serve them. A great alternative to a baked potato when served with grilled steak or chicken. I belive this recipe could be made with instant grits.The 2 1/2 hours for refrigeration is not include in time. The recipe comes from Tast of Home's Light and Tasty.</td>\n",
       "      <td>['water', 'grits', 'salt', 'cheddar cheese', 'garlic', 'olive oil']</td>\n",
       "      <td>[\"4   cups    water\",\"1   cup   uncooked old fashion grits\",\"1   teaspoon    salt\",\"4   ounces   shredded cheddar cheese\",\"1 -2   clove    garlic, minced \",\"1   tablespoon    olive oil\"]</td>\n",
       "      <td>1 (155 g)</td>\n",
       "      <td>8</td>\n",
       "      <td>['I a sauce pan, bring water to a boil; slowly add grits and salt, stirring constantly; Reduce heat:simmer, uncovered, for 40-45 minutes or untill thickened, stirrin occasionally.', 'Add cheese and garlic; stir until cheese is melted, Spray 9-inch baking dish with nonstick cooking spray; Cover and refrigerate for 2 to 2 1/2 hours or until frim.', 'Before starting the grill, coat the grill rack with nonstick cooking spray; Cut the grits into 3-inch squares; Brush both sides with olive oil.', 'Grill, covered, over medium heat for 4 to 6 minutes on each side or until lightly browned.']</td>\n",
       "      <td>['time-to-make', 'course', 'main-ingredient', 'preparation', 'occasion', 'side-dishes', 'eggs-dairy', 'refrigerator', 'diabetic', 'vegetarian', 'grains', 'cheese', 'stove-top', 'dietary', 'low-cholesterol', 'low-calorie', 'comfort-food', 'low-carb', 'low-in-something', 'pasta-rice-and-grains', 'brunch', 'taste-mood', 'equipment', 'presentation', 'served-hot', '4-hours-or-less']</td>\n",
       "      <td>{'diabetic', 'low-calorie', 'vegetarian', 'low-carb', 'side'}</td>\n",
       "      <td>[4-hours-or-less]</td>\n",
       "    </tr>\n",
       "  </tbody>\n",
       "</table>\n",
       "</div>"
      ],
      "text/plain": [
       "      id                         name  \\\n",
       "0  96313  Grilled Garlic Cheese Grits   \n",
       "\n",
       "                                                                                                                                                                                                                                                                                                     description  \\\n",
       "0  We love grits, this is another good way to serve them. A great alternative to a baked potato when served with grilled steak or chicken. I belive this recipe could be made with instant grits.The 2 1/2 hours for refrigeration is not include in time. The recipe comes from Tast of Home's Light and Tasty.   \n",
       "\n",
       "                                                           ingredients  \\\n",
       "0  ['water', 'grits', 'salt', 'cheddar cheese', 'garlic', 'olive oil']   \n",
       "\n",
       "                                                                                                                                                                          ingredients_raw_str  \\\n",
       "0  [\"4   cups    water\",\"1   cup   uncooked old fashion grits\",\"1   teaspoon    salt\",\"4   ounces   shredded cheddar cheese\",\"1 -2   clove    garlic, minced \",\"1   tablespoon    olive oil\"]   \n",
       "\n",
       "  serving_size  servings  \\\n",
       "0    1 (155 g)         8   \n",
       "\n",
       "                                                                                                                                                                                                                                                                                                                                                                                                                                                                                                                                                                                                           steps  \\\n",
       "0  ['I a sauce pan, bring water to a boil; slowly add grits and salt, stirring constantly; Reduce heat:simmer, uncovered, for 40-45 minutes or untill thickened, stirrin occasionally.', 'Add cheese and garlic; stir until cheese is melted, Spray 9-inch baking dish with nonstick cooking spray; Cover and refrigerate for 2 to 2 1/2 hours or until frim.', 'Before starting the grill, coat the grill rack with nonstick cooking spray; Cut the grits into 3-inch squares; Brush both sides with olive oil.', 'Grill, covered, over medium heat for 4 to 6 minutes on each side or until lightly browned.']   \n",
       "\n",
       "                                                                                                                                                                                                                                                                                                                                                                                           tags  \\\n",
       "0  ['time-to-make', 'course', 'main-ingredient', 'preparation', 'occasion', 'side-dishes', 'eggs-dairy', 'refrigerator', 'diabetic', 'vegetarian', 'grains', 'cheese', 'stove-top', 'dietary', 'low-cholesterol', 'low-calorie', 'comfort-food', 'low-carb', 'low-in-something', 'pasta-rice-and-grains', 'brunch', 'taste-mood', 'equipment', 'presentation', 'served-hot', '4-hours-or-less']   \n",
       "\n",
       "                                                    search_terms  \\\n",
       "0  {'diabetic', 'low-calorie', 'vegetarian', 'low-carb', 'side'}   \n",
       "\n",
       "        time-to-make  \n",
       "0  [4-hours-or-less]  "
      ]
     },
     "execution_count": 7,
     "metadata": {},
     "output_type": "execute_result"
    }
   ],
   "source": [
=======
    "pd.set_option('display.max_columns', None)\n",
    "pd.set_option('display.max_rows', None)\n",
    "pd.set_option('display.max_colwidth', None)\n",
    "\n",
    "df = pd.read_csv('recipes_w_search_terms.csv')"
   ]
  },
  {
   "cell_type": "code",
   "execution_count": null,
   "metadata": {},
   "outputs": [],
   "source": [
>>>>>>> data_exploration_cleaning
    "# Function to extract 'time-to-make' value based on 'minutes' or 'hours'\n",
    "def extract_time_to_make(tags_list):\n",
    "    time_to_make_values = []\n",
    "    for tag in tags_list:\n",
    "        if 'minutes' in tag.lower() or 'hours' in tag.lower():\n",
    "            time_to_make_values.append(tag.strip())\n",
    "    return time_to_make_values if time_to_make_values else None\n",
    "\n",
    "# Apply the function to create the new 'time-to-make' column\n",
    "df['time-to-make'] = df['tags'].apply(lambda x: extract_time_to_make(ast.literal_eval(x)) if pd.notnull(x) else None)\n",
    "df.head(1)"
   ]
  },
  {
   "cell_type": "code",
   "execution_count": null,
   "metadata": {},
   "outputs": [],
   "source": [
    "import re\n",
    "\n",
    "# Function to extract 'low-in-something' value based on 'low' \n",
    "def extract_low_in_something(low_values_list):\n",
    "    low_in_something_values = []\n",
    "    for tag in low_values_list:\n",
    "        # Check if the tag has 'low' as a whole word\n",
    "        if re.search(r'\\blow\\b', tag.lower()):\n",
    "            low_in_something_values.append(tag.strip())\n",
    "    return low_in_something_values if low_in_something_values else None\n",
    "\n",
    "# Apply the function to create the new 'low-in-something' column\n",
    "df['low-in-something'] = df['tags'].apply(lambda x: extract_low_in_something(ast.literal_eval(x)) if pd.notnull(x) else None)\n",
    "df.head(1)"
   ]
  },
  {
   "cell_type": "code",
   "execution_count": null,
   "metadata": {},
   "outputs": [],
   "source": [
    "import re\n",
    "\n",
    "# Function to extract 'free-of-something' value based on 'free' \n",
    "def extract_free_of_something(free_values_list):\n",
    "    free_of_something_values = []\n",
    "    for tag in free_values_list:\n",
    "        # Check if the tag has 'free' as a whole word\n",
    "        if re.search(r'\\bfree\\b', tag.lower()):\n",
    "            free_of_something_values.append(tag.strip())\n",
    "    return free_of_something_values if free_of_something_values else None\n",
    "\n",
    "# Apply the function to create the new 'free-of-something' column\n",
    "df['free-of-something'] = df['tags'].apply(lambda x: extract_free_of_something(ast.literal_eval(x)) if pd.notnull(x) else None)\n",
    "df.head(1)\n"
   ]
  },
  {
   "cell_type": "code",
   "execution_count": 37,
   "metadata": {},
   "outputs": [
    {
     "data": {
      "text/html": [
       "<div>\n",
       "<style scoped>\n",
       "    .dataframe tbody tr th:only-of-type {\n",
       "        vertical-align: middle;\n",
       "    }\n",
       "\n",
       "    .dataframe tbody tr th {\n",
       "        vertical-align: top;\n",
       "    }\n",
       "\n",
       "    .dataframe thead th {\n",
       "        text-align: right;\n",
       "    }\n",
       "</style>\n",
       "<table border=\"1\" class=\"dataframe\">\n",
       "  <thead>\n",
       "    <tr style=\"text-align: right;\">\n",
       "      <th></th>\n",
       "      <th>id</th>\n",
       "      <th>name</th>\n",
       "      <th>description</th>\n",
       "      <th>ingredients</th>\n",
       "      <th>ingredients_raw_str</th>\n",
       "      <th>serving_size</th>\n",
       "      <th>servings</th>\n",
       "      <th>steps</th>\n",
       "      <th>tags</th>\n",
       "      <th>search_terms</th>\n",
       "      <th>time-to-make</th>\n",
       "      <th>low-in-something</th>\n",
       "      <th>free-of-something</th>\n",
       "      <th>cuisine</th>\n",
       "    </tr>\n",
       "  </thead>\n",
       "  <tbody>\n",
       "    <tr>\n",
       "      <th>0</th>\n",
       "      <td>96313</td>\n",
       "      <td>Grilled Garlic Cheese Grits</td>\n",
       "      <td>We love grits, this is another good way to serve them. A great alternative to a baked potato when served with grilled steak or chicken. I belive this recipe could be made with instant grits.The 2 1/2 hours for refrigeration is not include in time. The recipe comes from Tast of Home's Light and Tasty.</td>\n",
       "      <td>['water', 'grits', 'salt', 'cheddar cheese', 'garlic', 'olive oil']</td>\n",
       "      <td>[\"4   cups    water\",\"1   cup   uncooked old fashion grits\",\"1   teaspoon    salt\",\"4   ounces   shredded cheddar cheese\",\"1 -2   clove    garlic, minced \",\"1   tablespoon    olive oil\"]</td>\n",
       "      <td>1 (155 g)</td>\n",
       "      <td>8</td>\n",
       "      <td>['I a sauce pan, bring water to a boil; slowly add grits and salt, stirring constantly; Reduce heat:simmer, uncovered, for 40-45 minutes or untill thickened, stirrin occasionally.', 'Add cheese and garlic; stir until cheese is melted, Spray 9-inch baking dish with nonstick cooking spray; Cover and refrigerate for 2 to 2 1/2 hours or until frim.', 'Before starting the grill, coat the grill rack with nonstick cooking spray; Cut the grits into 3-inch squares; Brush both sides with olive oil.', 'Grill, covered, over medium heat for 4 to 6 minutes on each side or until lightly browned.']</td>\n",
       "      <td>['time-to-make', 'course', 'main-ingredient', 'preparation', 'occasion', 'side-dishes', 'eggs-dairy', 'refrigerator', 'diabetic', 'vegetarian', 'grains', 'cheese', 'stove-top', 'dietary', 'low-cholesterol', 'low-calorie', 'comfort-food', 'low-carb', 'low-in-something', 'pasta-rice-and-grains', 'brunch', 'taste-mood', 'equipment', 'presentation', 'served-hot', '4-hours-or-less']</td>\n",
       "      <td>{'diabetic', 'low-calorie', 'vegetarian', 'low-carb', 'side'}</td>\n",
       "      <td>[4-hours-or-less]</td>\n",
       "      <td>[low-cholesterol, low-calorie, low-carb, low-in-something]</td>\n",
       "      <td>None</td>\n",
       "      <td>None</td>\n",
       "    </tr>\n",
       "  </tbody>\n",
       "</table>\n",
       "</div>"
      ],
      "text/plain": [
       "      id                         name  \\\n",
       "0  96313  Grilled Garlic Cheese Grits   \n",
       "\n",
       "                                                                                                                                                                                                                                                                                                     description  \\\n",
       "0  We love grits, this is another good way to serve them. A great alternative to a baked potato when served with grilled steak or chicken. I belive this recipe could be made with instant grits.The 2 1/2 hours for refrigeration is not include in time. The recipe comes from Tast of Home's Light and Tasty.   \n",
       "\n",
       "                                                           ingredients  \\\n",
       "0  ['water', 'grits', 'salt', 'cheddar cheese', 'garlic', 'olive oil']   \n",
       "\n",
       "                                                                                                                                                                          ingredients_raw_str  \\\n",
       "0  [\"4   cups    water\",\"1   cup   uncooked old fashion grits\",\"1   teaspoon    salt\",\"4   ounces   shredded cheddar cheese\",\"1 -2   clove    garlic, minced \",\"1   tablespoon    olive oil\"]   \n",
       "\n",
       "  serving_size  servings  \\\n",
       "0    1 (155 g)         8   \n",
       "\n",
       "                                                                                                                                                                                                                                                                                                                                                                                                                                                                                                                                                                                                           steps  \\\n",
       "0  ['I a sauce pan, bring water to a boil; slowly add grits and salt, stirring constantly; Reduce heat:simmer, uncovered, for 40-45 minutes or untill thickened, stirrin occasionally.', 'Add cheese and garlic; stir until cheese is melted, Spray 9-inch baking dish with nonstick cooking spray; Cover and refrigerate for 2 to 2 1/2 hours or until frim.', 'Before starting the grill, coat the grill rack with nonstick cooking spray; Cut the grits into 3-inch squares; Brush both sides with olive oil.', 'Grill, covered, over medium heat for 4 to 6 minutes on each side or until lightly browned.']   \n",
       "\n",
       "                                                                                                                                                                                                                                                                                                                                                                                           tags  \\\n",
       "0  ['time-to-make', 'course', 'main-ingredient', 'preparation', 'occasion', 'side-dishes', 'eggs-dairy', 'refrigerator', 'diabetic', 'vegetarian', 'grains', 'cheese', 'stove-top', 'dietary', 'low-cholesterol', 'low-calorie', 'comfort-food', 'low-carb', 'low-in-something', 'pasta-rice-and-grains', 'brunch', 'taste-mood', 'equipment', 'presentation', 'served-hot', '4-hours-or-less']   \n",
       "\n",
       "                                                    search_terms  \\\n",
       "0  {'diabetic', 'low-calorie', 'vegetarian', 'low-carb', 'side'}   \n",
       "\n",
       "        time-to-make  \\\n",
       "0  [4-hours-or-less]   \n",
       "\n",
       "                                             low-in-something  \\\n",
       "0  [low-cholesterol, low-calorie, low-carb, low-in-something]   \n",
       "\n",
       "  free-of-something cuisine  \n",
       "0              None    None  "
      ]
     },
     "execution_count": 37,
     "metadata": {},
     "output_type": "execute_result"
    }
   ],
   "source": [
    "# List of predefined cuisines\n",
    "cuisines = [\n",
    "    'indian', 'american', 'lebanese', 'italian', 'chinese', 'mexican', 'japanese', 'french', 'german', 'greek', 'spanish',\n",
    "    'thai', 'korean', 'vietnamese', 'brazilian', 'moroccan', 'turkish', 'russian', 'swedish', 'caribbean', 'ethiopian',\n",
    "    'peruvian', 'malaysian', 'australian', 'south african', 'portuguese', 'cajun/creole', 'argentine', 'filipino',\n",
    "    'middle-eastern', 'north-american', 'central-american', 'south-american', 'european', 'eastern-european',\n",
    "    'western-european', 'southeast-asian', 'south-asian', 'middle-eastern', 'north-african', 'sub-saharan-african',\n",
    "    'south-indian', 'north-indian', 'southern-american', 'northern-american', 'central-european', 'northern-european',\n",
    "    'southern-european', 'eastern-asian', 'western-asian', 'northern-african', 'southern-african', 'east-african',\n",
    "    'west-african', 'eastern-european', 'western-european', 'southeast-asian', 'south-asian', 'east-asian',\n",
    "    'central-asian', 'western-asian', 'middle-eastern', 'south-east-asian', 'north-east-asian', 'south-central-asian',\n",
    "    'north-central-asian', 'south-west-asian', 'north-west-asian', 'south-east-european', 'north-east-european',\n",
    "    'south-central-european', 'north-central-european', 'south-west-european', 'north-west-european', 'south-east-african',\n",
    "    'north-east-african', 'south-central-african', 'north-central-african', 'south-west-african', 'north-west-african',\n",
    "    'southwest', 'southwestern-us', 'southwestern-american', 'southwestern', 'south-west-pacific'\n",
    "]\n",
    "\n",
    "# Function to extract 'cuisine' value\n",
    "def extract_cuisines(tags_list):\n",
    "    cuisine_list = [tag.strip() for tag in tags_list if tag.lower() in cuisines]\n",
    "    return cuisine_list if cuisine_list else None\n",
    "\n",
    "# Apply the function to create the new 'cuisine' column\n",
    "df['cuisine'] = df['tags'].apply(lambda x: extract_cuisines(ast.literal_eval(x)) if pd.notnull(x) else None)\n",
    "\n",
    "df.head(1)\n"
   ]
  }
 ],
 "metadata": {
  "kernelspec": {
   "display_name": "Python 3",
   "language": "python",
   "name": "python3"
  },
  "language_info": {
   "codemirror_mode": {
    "name": "ipython",
    "version": 3
   },
   "file_extension": ".py",
   "mimetype": "text/x-python",
   "name": "python",
   "nbconvert_exporter": "python",
   "pygments_lexer": "ipython3",
   "version": "3.11.5"
  }
 },
 "nbformat": 4,
 "nbformat_minor": 2
}
