{
 "cells": [
  {
   "cell_type": "markdown",
   "metadata": {},
   "source": [
    "# Data-Import"
   ]
  },
  {
   "cell_type": "code",
   "execution_count": 1,
   "metadata": {},
   "outputs": [],
   "source": [
    "import pandas as pd\n",
    "import ast\n",
    "import re\n",
    "\n",
    "# Set the display options to show all columns and rows\n",
    "pd.set_option(\"display.max_columns\", None)\n",
    "pd.set_option(\"display.max_rows\", None)\n",
    "pd.set_option(\"display.max_colwidth\", None)\n",
    "\n",
    "# Data import Aisha\n",
    "original_dataframe = pd.read_csv(\"recipes_w_search_terms.csv\")\n",
    "\n",
    "# data import katie\n",
    "# original_dataframe = pd.read_csv(\"C:\\\\Users\\\\k.ritscher\\\\Desktop\\\\Bootcamp\\\\Final_Project\\\\archive\\\\recipes_w_search_terms.csv\")"
   ]
  },
  {
   "cell_type": "markdown",
   "metadata": {},
   "source": [
    "### Dropping Duplicates, Creating smaller DF"
   ]
  },
  {
   "cell_type": "code",
   "execution_count": 2,
   "metadata": {},
   "outputs": [],
   "source": [
    "# drop duplicates\n",
    "df = original_dataframe.copy()\n",
    "df.drop_duplicates(\n",
    "    subset=[\"name\", \"ingredients\", \"description\"], keep=\"first\", inplace=True\n",
    ")"
   ]
  },
  {
   "cell_type": "code",
   "execution_count": 3,
   "metadata": {},
   "outputs": [
    {
     "name": "stdout",
     "output_type": "stream",
     "text": [
      "494963\n",
      "494777\n"
     ]
    }
   ],
   "source": [
    "# see difference in the size of the df,\n",
    "print(len(original_dataframe))\n",
    "print(len(df))"
   ]
  },
  {
   "cell_type": "code",
   "execution_count": 4,
   "metadata": {},
   "outputs": [],
   "source": [
    "# creating a smaller test-dataframe\n",
    "test_df = df.iloc[:10, :]"
   ]
  },
  {
   "cell_type": "code",
   "execution_count": 5,
   "metadata": {},
   "outputs": [
    {
     "data": {
      "text/plain": [
       "dtype('O')"
      ]
     },
     "execution_count": 5,
     "metadata": {},
     "output_type": "execute_result"
    }
   ],
   "source": [
    "df[\"ingredients\"].dtypes  # the datatype of ingredients seems to be an object"
   ]
  },
  {
   "cell_type": "code",
   "execution_count": null,
   "metadata": {},
   "outputs": [],
   "source": [
    "test_df.head(1)"
   ]
  },
  {
   "cell_type": "code",
   "execution_count": 12,
   "metadata": {},
   "outputs": [
    {
     "data": {
      "text/plain": [
       "['salt']"
      ]
     },
     "execution_count": 12,
     "metadata": {},
     "output_type": "execute_result"
    }
   ],
   "source": [
    "[\n",
    "    ingredient\n",
    "    for ingredient in [\n",
    "        \"salt\",\n",
    "        \"oil\",\n",
    "        \"water\",\n",
    "    ]\n",
    "    if ingredient\n",
    "    in test_df[\"ingredients\"][1]\n",
    "    .strip(\"][]\")\n",
    "    .replace(\"'\", \"\")\n",
    "    .split(\n",
    "        \", \"\n",
    "    )  # transform column to a list by removing squarebrackets and quotes and split by commas\n",
    "]\n",
    "# next: loop through ingredients again"
   ]
  },
  {
   "cell_type": "code",
   "execution_count": null,
   "metadata": {},
   "outputs": [],
   "source": [
    "[\n",
    "    ingredient_list.strip(\"][\").replace(\"'\", \"\").split(\", \")\n",
    "    for ingredient_list in test_df[\"ingredients\"].to_list()\n",
    "]"
   ]
  },
  {
   "cell_type": "code",
   "execution_count": 14,
   "metadata": {},
   "outputs": [
    {
     "ename": "ValueError",
     "evalue": "Length of values (1) does not match length of index (10)",
     "output_type": "error",
     "traceback": [
      "\u001b[1;31m---------------------------------------------------------------------------\u001b[0m",
      "\u001b[1;31mValueError\u001b[0m                                Traceback (most recent call last)",
      "Cell \u001b[1;32mIn[14], line 1\u001b[0m\n\u001b[1;32m----> 1\u001b[0m \u001b[43mtest_df\u001b[49m\u001b[43m[\u001b[49m\u001b[38;5;124;43m\"\u001b[39;49m\u001b[38;5;124;43mbasic_ingredients\u001b[39;49m\u001b[38;5;124;43m\"\u001b[39;49m\u001b[43m]\u001b[49m \u001b[38;5;241m=\u001b[39m [\n\u001b[0;32m      2\u001b[0m     ingredient\n\u001b[0;32m      3\u001b[0m     \u001b[38;5;28;01mfor\u001b[39;00m ingredient \u001b[38;5;129;01min\u001b[39;00m [\n\u001b[0;32m      4\u001b[0m         \u001b[38;5;124m\"\u001b[39m\u001b[38;5;124msalt\u001b[39m\u001b[38;5;124m\"\u001b[39m,\n\u001b[0;32m      5\u001b[0m         \u001b[38;5;124m\"\u001b[39m\u001b[38;5;124moil\u001b[39m\u001b[38;5;124m\"\u001b[39m,\n\u001b[0;32m      6\u001b[0m         \u001b[38;5;124m\"\u001b[39m\u001b[38;5;124mwater\u001b[39m\u001b[38;5;124m\"\u001b[39m,\n\u001b[0;32m      7\u001b[0m     ]\n\u001b[0;32m      8\u001b[0m     \u001b[38;5;28;01mif\u001b[39;00m ingredient\n\u001b[0;32m      9\u001b[0m     \u001b[38;5;129;01min\u001b[39;00m test_df[\u001b[38;5;124m\"\u001b[39m\u001b[38;5;124mingredients\u001b[39m\u001b[38;5;124m\"\u001b[39m][\u001b[38;5;241m1\u001b[39m]\n\u001b[0;32m     10\u001b[0m     \u001b[38;5;241m.\u001b[39mstrip(\u001b[38;5;124m\"\u001b[39m\u001b[38;5;124m][]\u001b[39m\u001b[38;5;124m\"\u001b[39m)\n\u001b[0;32m     11\u001b[0m     \u001b[38;5;241m.\u001b[39mreplace(\u001b[38;5;124m\"\u001b[39m\u001b[38;5;124m'\u001b[39m\u001b[38;5;124m\"\u001b[39m, \u001b[38;5;124m\"\u001b[39m\u001b[38;5;124m\"\u001b[39m)\n\u001b[0;32m     12\u001b[0m     \u001b[38;5;241m.\u001b[39msplit(\n\u001b[0;32m     13\u001b[0m         \u001b[38;5;124m\"\u001b[39m\u001b[38;5;124m, \u001b[39m\u001b[38;5;124m\"\u001b[39m\n\u001b[0;32m     14\u001b[0m     )  \u001b[38;5;66;03m# transform column to a list by removing squarebrackets and quotes and split by commas\u001b[39;00m\n\u001b[0;32m     15\u001b[0m ]\n\u001b[0;32m     17\u001b[0m test_df\u001b[38;5;241m.\u001b[39mhead(\u001b[38;5;241m1\u001b[39m)\n",
      "File \u001b[1;32mc:\\Users\\k.ritscher\\anaconda3\\envs\\wbs\\Lib\\site-packages\\pandas\\core\\frame.py:3950\u001b[0m, in \u001b[0;36mDataFrame.__setitem__\u001b[1;34m(self, key, value)\u001b[0m\n\u001b[0;32m   3947\u001b[0m     \u001b[38;5;28mself\u001b[39m\u001b[38;5;241m.\u001b[39m_setitem_array([key], value)\n\u001b[0;32m   3948\u001b[0m \u001b[38;5;28;01melse\u001b[39;00m:\n\u001b[0;32m   3949\u001b[0m     \u001b[38;5;66;03m# set column\u001b[39;00m\n\u001b[1;32m-> 3950\u001b[0m     \u001b[38;5;28;43mself\u001b[39;49m\u001b[38;5;241;43m.\u001b[39;49m\u001b[43m_set_item\u001b[49m\u001b[43m(\u001b[49m\u001b[43mkey\u001b[49m\u001b[43m,\u001b[49m\u001b[43m \u001b[49m\u001b[43mvalue\u001b[49m\u001b[43m)\u001b[49m\n",
      "File \u001b[1;32mc:\\Users\\k.ritscher\\anaconda3\\envs\\wbs\\Lib\\site-packages\\pandas\\core\\frame.py:4143\u001b[0m, in \u001b[0;36mDataFrame._set_item\u001b[1;34m(self, key, value)\u001b[0m\n\u001b[0;32m   4133\u001b[0m \u001b[38;5;28;01mdef\u001b[39;00m \u001b[38;5;21m_set_item\u001b[39m(\u001b[38;5;28mself\u001b[39m, key, value) \u001b[38;5;241m-\u001b[39m\u001b[38;5;241m>\u001b[39m \u001b[38;5;28;01mNone\u001b[39;00m:\n\u001b[0;32m   4134\u001b[0m \u001b[38;5;250m    \u001b[39m\u001b[38;5;124;03m\"\"\"\u001b[39;00m\n\u001b[0;32m   4135\u001b[0m \u001b[38;5;124;03m    Add series to DataFrame in specified column.\u001b[39;00m\n\u001b[0;32m   4136\u001b[0m \n\u001b[1;32m   (...)\u001b[0m\n\u001b[0;32m   4141\u001b[0m \u001b[38;5;124;03m    ensure homogeneity.\u001b[39;00m\n\u001b[0;32m   4142\u001b[0m \u001b[38;5;124;03m    \"\"\"\u001b[39;00m\n\u001b[1;32m-> 4143\u001b[0m     value \u001b[38;5;241m=\u001b[39m \u001b[38;5;28;43mself\u001b[39;49m\u001b[38;5;241;43m.\u001b[39;49m\u001b[43m_sanitize_column\u001b[49m\u001b[43m(\u001b[49m\u001b[43mvalue\u001b[49m\u001b[43m)\u001b[49m\n\u001b[0;32m   4145\u001b[0m     \u001b[38;5;28;01mif\u001b[39;00m (\n\u001b[0;32m   4146\u001b[0m         key \u001b[38;5;129;01min\u001b[39;00m \u001b[38;5;28mself\u001b[39m\u001b[38;5;241m.\u001b[39mcolumns\n\u001b[0;32m   4147\u001b[0m         \u001b[38;5;129;01mand\u001b[39;00m value\u001b[38;5;241m.\u001b[39mndim \u001b[38;5;241m==\u001b[39m \u001b[38;5;241m1\u001b[39m\n\u001b[0;32m   4148\u001b[0m         \u001b[38;5;129;01mand\u001b[39;00m \u001b[38;5;129;01mnot\u001b[39;00m is_extension_array_dtype(value)\n\u001b[0;32m   4149\u001b[0m     ):\n\u001b[0;32m   4150\u001b[0m         \u001b[38;5;66;03m# broadcast across multiple columns if necessary\u001b[39;00m\n\u001b[0;32m   4151\u001b[0m         \u001b[38;5;28;01mif\u001b[39;00m \u001b[38;5;129;01mnot\u001b[39;00m \u001b[38;5;28mself\u001b[39m\u001b[38;5;241m.\u001b[39mcolumns\u001b[38;5;241m.\u001b[39mis_unique \u001b[38;5;129;01mor\u001b[39;00m \u001b[38;5;28misinstance\u001b[39m(\u001b[38;5;28mself\u001b[39m\u001b[38;5;241m.\u001b[39mcolumns, MultiIndex):\n",
      "File \u001b[1;32mc:\\Users\\k.ritscher\\anaconda3\\envs\\wbs\\Lib\\site-packages\\pandas\\core\\frame.py:4870\u001b[0m, in \u001b[0;36mDataFrame._sanitize_column\u001b[1;34m(self, value)\u001b[0m\n\u001b[0;32m   4867\u001b[0m     \u001b[38;5;28;01mreturn\u001b[39;00m _reindex_for_setitem(Series(value), \u001b[38;5;28mself\u001b[39m\u001b[38;5;241m.\u001b[39mindex)\n\u001b[0;32m   4869\u001b[0m \u001b[38;5;28;01mif\u001b[39;00m is_list_like(value):\n\u001b[1;32m-> 4870\u001b[0m     \u001b[43mcom\u001b[49m\u001b[38;5;241;43m.\u001b[39;49m\u001b[43mrequire_length_match\u001b[49m\u001b[43m(\u001b[49m\u001b[43mvalue\u001b[49m\u001b[43m,\u001b[49m\u001b[43m \u001b[49m\u001b[38;5;28;43mself\u001b[39;49m\u001b[38;5;241;43m.\u001b[39;49m\u001b[43mindex\u001b[49m\u001b[43m)\u001b[49m\n\u001b[0;32m   4871\u001b[0m \u001b[38;5;28;01mreturn\u001b[39;00m sanitize_array(value, \u001b[38;5;28mself\u001b[39m\u001b[38;5;241m.\u001b[39mindex, copy\u001b[38;5;241m=\u001b[39m\u001b[38;5;28;01mTrue\u001b[39;00m, allow_2d\u001b[38;5;241m=\u001b[39m\u001b[38;5;28;01mTrue\u001b[39;00m)\n",
      "File \u001b[1;32mc:\\Users\\k.ritscher\\anaconda3\\envs\\wbs\\Lib\\site-packages\\pandas\\core\\common.py:576\u001b[0m, in \u001b[0;36mrequire_length_match\u001b[1;34m(data, index)\u001b[0m\n\u001b[0;32m    572\u001b[0m \u001b[38;5;250m\u001b[39m\u001b[38;5;124;03m\"\"\"\u001b[39;00m\n\u001b[0;32m    573\u001b[0m \u001b[38;5;124;03mCheck the length of data matches the length of the index.\u001b[39;00m\n\u001b[0;32m    574\u001b[0m \u001b[38;5;124;03m\"\"\"\u001b[39;00m\n\u001b[0;32m    575\u001b[0m \u001b[38;5;28;01mif\u001b[39;00m \u001b[38;5;28mlen\u001b[39m(data) \u001b[38;5;241m!=\u001b[39m \u001b[38;5;28mlen\u001b[39m(index):\n\u001b[1;32m--> 576\u001b[0m     \u001b[38;5;28;01mraise\u001b[39;00m \u001b[38;5;167;01mValueError\u001b[39;00m(\n\u001b[0;32m    577\u001b[0m         \u001b[38;5;124m\"\u001b[39m\u001b[38;5;124mLength of values \u001b[39m\u001b[38;5;124m\"\u001b[39m\n\u001b[0;32m    578\u001b[0m         \u001b[38;5;124mf\u001b[39m\u001b[38;5;124m\"\u001b[39m\u001b[38;5;124m(\u001b[39m\u001b[38;5;132;01m{\u001b[39;00m\u001b[38;5;28mlen\u001b[39m(data)\u001b[38;5;132;01m}\u001b[39;00m\u001b[38;5;124m) \u001b[39m\u001b[38;5;124m\"\u001b[39m\n\u001b[0;32m    579\u001b[0m         \u001b[38;5;124m\"\u001b[39m\u001b[38;5;124mdoes not match length of index \u001b[39m\u001b[38;5;124m\"\u001b[39m\n\u001b[0;32m    580\u001b[0m         \u001b[38;5;124mf\u001b[39m\u001b[38;5;124m\"\u001b[39m\u001b[38;5;124m(\u001b[39m\u001b[38;5;132;01m{\u001b[39;00m\u001b[38;5;28mlen\u001b[39m(index)\u001b[38;5;132;01m}\u001b[39;00m\u001b[38;5;124m)\u001b[39m\u001b[38;5;124m\"\u001b[39m\n\u001b[0;32m    581\u001b[0m     )\n",
      "\u001b[1;31mValueError\u001b[0m: Length of values (1) does not match length of index (10)"
     ]
    }
   ],
   "source": [
    "test_df[\"basic_ingredients\"] = [\n",
    "    ingredient\n",
    "    for ingredient in [\n",
    "        \"salt\",\n",
    "        \"oil\",\n",
    "        \"water\",\n",
    "    ]\n",
    "    if ingredient\n",
    "    in test_df[\"ingredients\"][1]\n",
    "    .strip(\"][]\")\n",
    "    .replace(\"'\", \"\")\n",
    "    .split(\n",
    "        \", \"\n",
    "    )  # transform column to a list by removing squarebrackets and quotes and split by commas\n",
    "]\n",
    "\n",
    "test_df.head(1)"
   ]
  },
  {
   "cell_type": "code",
   "execution_count": null,
   "metadata": {},
   "outputs": [],
   "source": [
    "# test_df[\"filtered_ingredients\"] = test_df[\"ingredients\"].apply(filter_basic_ingredients)\n",
    "# test_df.head(2)"
   ]
  },
  {
   "cell_type": "markdown",
   "metadata": {},
   "source": [
    "## Creating columns \n",
    "time to make, low-in-something, free-off-something, cuisine\n"
   ]
  },
  {
   "cell_type": "code",
   "execution_count": null,
   "metadata": {},
   "outputs": [],
   "source": [
    "# Function to extract 'time-to-make' value based on 'minutes' or 'hours'\n",
    "def extract_time_to_make(tags_list):\n",
    "    time_to_make_values = []\n",
    "    for tag in tags_list:\n",
    "        if \"minutes\" in tag.lower() or \"hours\" in tag.lower():\n",
    "            time_to_make_values.append(tag.strip())\n",
    "    return time_to_make_values if time_to_make_values else None\n",
    "\n",
    "\n",
    "# Apply the function to create the new 'time-to-make' column\n",
    "df[\"time-to-make\"] = df[\"tags\"].apply(\n",
    "    lambda x: extract_time_to_make(ast.literal_eval(x)) if pd.notnull(x) else None\n",
    ")\n",
    "df.head(1)"
   ]
  },
  {
   "cell_type": "code",
   "execution_count": null,
   "metadata": {},
   "outputs": [],
   "source": [
    "import re\n",
    "\n",
    "\n",
    "# Function to extract 'low-in-something' value based on 'low'\n",
    "def extract_low_in_something(low_values_list):\n",
    "    low_in_something_values = []\n",
    "    for tag in low_values_list:\n",
    "        # Check if the tag has 'low' as a whole word\n",
    "        if re.search(r\"\\blow\\b\", tag.lower()):\n",
    "            low_in_something_values.append(tag.strip())\n",
    "    return low_in_something_values if low_in_something_values else None\n",
    "\n",
    "\n",
    "# Apply the function to create the new 'low-in-something' column\n",
    "df[\"low-in-something\"] = df[\"tags\"].apply(\n",
    "    lambda x: extract_low_in_something(ast.literal_eval(x)) if pd.notnull(x) else None\n",
    ")\n",
    "df.head(1)"
   ]
  },
  {
   "cell_type": "code",
   "execution_count": null,
   "metadata": {},
   "outputs": [],
   "source": [
    "import re\n",
    "\n",
    "\n",
    "# Function to extract 'free-of-something' value based on 'free'\n",
    "def extract_free_of_something(free_values_list):\n",
    "    free_of_something_values = []\n",
    "    for tag in free_values_list:\n",
    "        # Check if the tag has 'free' as a whole word\n",
    "        if re.search(r\"\\bfree\\b\", tag.lower()):\n",
    "            free_of_something_values.append(tag.strip())\n",
    "    return free_of_something_values if free_of_something_values else None\n",
    "\n",
    "\n",
    "# Apply the function to create the new 'free-of-something' column\n",
    "df[\"free-of-something\"] = df[\"tags\"].apply(\n",
    "    lambda x: extract_free_of_something(ast.literal_eval(x)) if pd.notnull(x) else None\n",
    ")\n",
    "df.head(1)"
   ]
  },
  {
   "cell_type": "code",
   "execution_count": null,
   "metadata": {},
   "outputs": [],
   "source": [
    "# List of predefined cuisines\n",
    "cuisines = [\n",
    "    \"indian\",\n",
    "    \"american\",\n",
    "    \"lebanese\",\n",
    "    \"italian\",\n",
    "    \"chinese\",\n",
    "    \"mexican\",\n",
    "    \"japanese\",\n",
    "    \"french\",\n",
    "    \"german\",\n",
    "    \"greek\",\n",
    "    \"spanish\",\n",
    "    \"thai\",\n",
    "    \"korean\",\n",
    "    \"vietnamese\",\n",
    "    \"brazilian\",\n",
    "    \"moroccan\",\n",
    "    \"turkish\",\n",
    "    \"russian\",\n",
    "    \"swedish\",\n",
    "    \"caribbean\",\n",
    "    \"ethiopian\",\n",
    "    \"peruvian\",\n",
    "    \"malaysian\",\n",
    "    \"australian\",\n",
    "    \"south african\",\n",
    "    \"portuguese\",\n",
    "    \"cajun/creole\",\n",
    "    \"argentine\",\n",
    "    \"filipino\",\n",
    "    \"middle-eastern\",\n",
    "    \"north-american\",\n",
    "    \"central-american\",\n",
    "    \"south-american\",\n",
    "    \"european\",\n",
    "    \"eastern-european\",\n",
    "    \"western-european\",\n",
    "    \"southeast-asian\",\n",
    "    \"south-asian\",\n",
    "    \"middle-eastern\",\n",
    "    \"north-african\",\n",
    "    \"sub-saharan-african\",\n",
    "    \"south-indian\",\n",
    "    \"north-indian\",\n",
    "    \"southern-american\",\n",
    "    \"northern-american\",\n",
    "    \"central-european\",\n",
    "    \"northern-european\",\n",
    "    \"southern-european\",\n",
    "    \"eastern-asian\",\n",
    "    \"western-asian\",\n",
    "    \"northern-african\",\n",
    "    \"southern-african\",\n",
    "    \"east-african\",\n",
    "    \"west-african\",\n",
    "    \"eastern-european\",\n",
    "    \"western-european\",\n",
    "    \"southeast-asian\",\n",
    "    \"south-asian\",\n",
    "    \"east-asian\",\n",
    "    \"central-asian\",\n",
    "    \"western-asian\",\n",
    "    \"middle-eastern\",\n",
    "    \"south-east-asian\",\n",
    "    \"north-east-asian\",\n",
    "    \"south-central-asian\",\n",
    "    \"north-central-asian\",\n",
    "    \"south-west-asian\",\n",
    "    \"north-west-asian\",\n",
    "    \"south-east-european\",\n",
    "    \"north-east-european\",\n",
    "    \"south-central-european\",\n",
    "    \"north-central-european\",\n",
    "    \"south-west-european\",\n",
    "    \"north-west-european\",\n",
    "    \"south-east-african\",\n",
    "    \"north-east-african\",\n",
    "    \"south-central-african\",\n",
    "    \"north-central-african\",\n",
    "    \"south-west-african\",\n",
    "    \"north-west-african\",\n",
    "    \"southwest\",\n",
    "    \"southwestern-us\",\n",
    "    \"southwestern-american\",\n",
    "    \"southwestern\",\n",
    "    \"south-west-pacific\",\n",
    "]\n",
    "\n",
    "\n",
    "# Function to extract 'cuisine' value\n",
    "def extract_cuisines(tags_list):\n",
    "    cuisine_list = [tag.strip() for tag in tags_list if tag.lower() in cuisines]\n",
    "    return cuisine_list if cuisine_list else None\n",
    "\n",
    "\n",
    "# Apply the function to create the new 'cuisine' column\n",
    "df[\"cuisine\"] = df[\"tags\"].apply(\n",
    "    lambda x: extract_cuisines(ast.literal_eval(x)) if pd.notnull(x) else None\n",
    ")\n",
    "\n",
    "df.head(1)"
   ]
  },
  {
   "cell_type": "code",
   "execution_count": 16,
   "metadata": {},
   "outputs": [
    {
     "data": {
      "text/html": [
       "<div>\n",
       "<style scoped>\n",
       "    .dataframe tbody tr th:only-of-type {\n",
       "        vertical-align: middle;\n",
       "    }\n",
       "\n",
       "    .dataframe tbody tr th {\n",
       "        vertical-align: top;\n",
       "    }\n",
       "\n",
       "    .dataframe thead th {\n",
       "        text-align: right;\n",
       "    }\n",
       "</style>\n",
       "<table border=\"1\" class=\"dataframe\">\n",
       "  <thead>\n",
       "    <tr style=\"text-align: right;\">\n",
       "      <th></th>\n",
       "      <th>id</th>\n",
       "      <th>name</th>\n",
       "      <th>description</th>\n",
       "      <th>ingredients</th>\n",
       "      <th>ingredients_raw_str</th>\n",
       "      <th>serving_size</th>\n",
       "      <th>servings</th>\n",
       "      <th>steps</th>\n",
       "      <th>tags</th>\n",
       "      <th>search_terms</th>\n",
       "      <th>time-to-make</th>\n",
       "      <th>low-in-something</th>\n",
       "      <th>free-of-something</th>\n",
       "      <th>cuisine</th>\n",
       "      <th>main_ingredients</th>\n",
       "    </tr>\n",
       "  </thead>\n",
       "  <tbody>\n",
       "    <tr>\n",
       "      <th>0</th>\n",
       "      <td>96313</td>\n",
       "      <td>Grilled Garlic Cheese Grits</td>\n",
       "      <td>We love grits, this is another good way to serve them. A great alternative to a baked potato when served with grilled steak or chicken. I belive this recipe could be made with instant grits.The 2 1/2 hours for refrigeration is not include in time. The recipe comes from Tast of Home's Light and Tasty.</td>\n",
       "      <td>['water', 'grits', 'salt', 'cheddar cheese', 'garlic', 'olive oil']</td>\n",
       "      <td>[\"4   cups    water\",\"1   cup   uncooked old fashion grits\",\"1   teaspoon    salt\",\"4   ounces   shredded cheddar cheese\",\"1 -2   clove    garlic, minced \",\"1   tablespoon    olive oil\"]</td>\n",
       "      <td>1 (155 g)</td>\n",
       "      <td>8</td>\n",
       "      <td>['I a sauce pan, bring water to a boil; slowly add grits and salt, stirring constantly; Reduce heat:simmer, uncovered, for 40-45 minutes or untill thickened, stirrin occasionally.', 'Add cheese and garlic; stir until cheese is melted, Spray 9-inch baking dish with nonstick cooking spray; Cover and refrigerate for 2 to 2 1/2 hours or until frim.', 'Before starting the grill, coat the grill rack with nonstick cooking spray; Cut the grits into 3-inch squares; Brush both sides with olive oil.', 'Grill, covered, over medium heat for 4 to 6 minutes on each side or until lightly browned.']</td>\n",
       "      <td>['time-to-make', 'course', 'main-ingredient', 'preparation', 'occasion', 'side-dishes', 'eggs-dairy', 'refrigerator', 'diabetic', 'vegetarian', 'grains', 'cheese', 'stove-top', 'dietary', 'low-cholesterol', 'low-calorie', 'comfort-food', 'low-carb', 'low-in-something', 'pasta-rice-and-grains', 'brunch', 'taste-mood', 'equipment', 'presentation', 'served-hot', '4-hours-or-less']</td>\n",
       "      <td>{'diabetic', 'low-calorie', 'vegetarian', 'low-carb', 'side'}</td>\n",
       "      <td>[4-hours-or-less]</td>\n",
       "      <td>[low-cholesterol, low-calorie, low-carb, low-in-something]</td>\n",
       "      <td>None</td>\n",
       "      <td>None</td>\n",
       "      <td>[a, t, e, r, g, r, i, t, s, s, a, l, t, c, h, e, d, d, a, r, c, h, e, e, s, e, g, a, r, l, i, c, l, i, e, i, l]</td>\n",
       "    </tr>\n",
       "  </tbody>\n",
       "</table>\n",
       "</div>"
      ],
      "text/plain": [
       "      id                         name  \\\n",
       "0  96313  Grilled Garlic Cheese Grits   \n",
       "\n",
       "                                                                                                                                                                                                                                                                                                     description  \\\n",
       "0  We love grits, this is another good way to serve them. A great alternative to a baked potato when served with grilled steak or chicken. I belive this recipe could be made with instant grits.The 2 1/2 hours for refrigeration is not include in time. The recipe comes from Tast of Home's Light and Tasty.   \n",
       "\n",
       "                                                           ingredients  \\\n",
       "0  ['water', 'grits', 'salt', 'cheddar cheese', 'garlic', 'olive oil']   \n",
       "\n",
       "                                                                                                                                                                          ingredients_raw_str  \\\n",
       "0  [\"4   cups    water\",\"1   cup   uncooked old fashion grits\",\"1   teaspoon    salt\",\"4   ounces   shredded cheddar cheese\",\"1 -2   clove    garlic, minced \",\"1   tablespoon    olive oil\"]   \n",
       "\n",
       "  serving_size  servings  \\\n",
       "0    1 (155 g)         8   \n",
       "\n",
       "                                                                                                                                                                                                                                                                                                                                                                                                                                                                                                                                                                                                           steps  \\\n",
       "0  ['I a sauce pan, bring water to a boil; slowly add grits and salt, stirring constantly; Reduce heat:simmer, uncovered, for 40-45 minutes or untill thickened, stirrin occasionally.', 'Add cheese and garlic; stir until cheese is melted, Spray 9-inch baking dish with nonstick cooking spray; Cover and refrigerate for 2 to 2 1/2 hours or until frim.', 'Before starting the grill, coat the grill rack with nonstick cooking spray; Cut the grits into 3-inch squares; Brush both sides with olive oil.', 'Grill, covered, over medium heat for 4 to 6 minutes on each side or until lightly browned.']   \n",
       "\n",
       "                                                                                                                                                                                                                                                                                                                                                                                           tags  \\\n",
       "0  ['time-to-make', 'course', 'main-ingredient', 'preparation', 'occasion', 'side-dishes', 'eggs-dairy', 'refrigerator', 'diabetic', 'vegetarian', 'grains', 'cheese', 'stove-top', 'dietary', 'low-cholesterol', 'low-calorie', 'comfort-food', 'low-carb', 'low-in-something', 'pasta-rice-and-grains', 'brunch', 'taste-mood', 'equipment', 'presentation', 'served-hot', '4-hours-or-less']   \n",
       "\n",
       "                                                    search_terms  \\\n",
       "0  {'diabetic', 'low-calorie', 'vegetarian', 'low-carb', 'side'}   \n",
       "\n",
       "        time-to-make  \\\n",
       "0  [4-hours-or-less]   \n",
       "\n",
       "                                             low-in-something  \\\n",
       "0  [low-cholesterol, low-calorie, low-carb, low-in-something]   \n",
       "\n",
       "  free-of-something cuisine  \\\n",
       "0              None    None   \n",
       "\n",
       "                                                                                                  main_ingredients  \n",
       "0  [a, t, e, r, g, r, i, t, s, s, a, l, t, c, h, e, d, d, a, r, c, h, e, e, s, e, g, a, r, l, i, c, l, i, e, i, l]  "
      ]
     },
     "execution_count": 16,
     "metadata": {},
     "output_type": "execute_result"
    }
   ],
   "source": [
    "# Attempt to extract the main ingredients of a recipe based on logic that extracts words from the recipe name, then looks for those words in the ingredients. The words that are present in the name are considered the main ingredients of the recipe.\n",
    "\n",
    "import pandas as pd\n",
    "import re\n",
    "\n",
    "\n",
    "# Assuming 'name' and 'ingredients' are columns in your DataFrame df\n",
    "def extract_main_ingredients(row):\n",
    "    recipe_name = row[\"name\"].lower()\n",
    "\n",
    "    # Extract words from ingredients and convert to lowercase\n",
    "    ingredients_lower = [\n",
    "        word.lower() for word in re.findall(r\"\\b\\w+\\b\", \" \".join(row[\"ingredients\"]))\n",
    "    ]\n",
    "\n",
    "    # Find all ingredients mentioned in the recipe name\n",
    "    main_ingredients = [\n",
    "        ingredient for ingredient in ingredients_lower if ingredient in recipe_name\n",
    "    ]\n",
    "\n",
    "    return main_ingredients\n",
    "\n",
    "\n",
    "# Apply the extract_main_ingredients function to create a new column 'main_ingredients'\n",
    "df[\"main_ingredients\"] = df.apply(extract_main_ingredients, axis=1)\n",
    "\n",
    "# Display the modified DataFrame\n",
    "df.head(1)"
   ]
  },
  {
   "cell_type": "markdown",
   "metadata": {},
   "source": [
    "# Unused Code"
   ]
  },
  {
   "cell_type": "code",
   "execution_count": null,
   "metadata": {},
   "outputs": [],
   "source": [
    "# def filter_basic_ingredients(ingredient_list):\n",
    "#     basic_ingredients = [\n",
    "#         \"salt\",\n",
    "#         \"oil\",\n",
    "#         \"water\",\n",
    "#     ]\n",
    "\n",
    "#     return [\n",
    "#         ingredient\n",
    "#         for ingredient in basic_ingredients\n",
    "#         if ingredient.lower() in ingredient_list\n",
    "#     ]"
   ]
  },
  {
   "cell_type": "code",
   "execution_count": null,
   "metadata": {},
   "outputs": [],
   "source": [
    "# # Function to ensure that each cell is a list\n",
    "# def ensure_list(cell):\n",
    "#     if isinstance(cell, list):\n",
    "#         return cell\n",
    "#     else:\n",
    "#         return [cell]\n",
    "\n",
    "\n",
    "# # Apply the function to the \"ingredients\" column\n",
    "# test_df[\"ingredients\"] = test_df[\"ingredients\"].apply(ensure_list)\n",
    "\n",
    "# test_df.head(1)"
   ]
  },
  {
   "cell_type": "code",
   "execution_count": null,
   "metadata": {},
   "outputs": [],
   "source": [
    "# filter_basic_ingredients(test_df[\"ingredients\"])"
   ]
  },
  {
   "cell_type": "code",
   "execution_count": null,
   "metadata": {},
   "outputs": [],
   "source": [
    "# import numpy as np\n",
    "\n",
    "# def filter_basic_ingredients(ingredient_list):\n",
    "#     return [\n",
    "#         ingredient\n",
    "#         for ingredient in ingredient_list\n",
    "#         if ingredient.lower() in basic_ingredients\n",
    "#     ]\n",
    "\n",
    "#     return [\n",
    "#         ingredient\n",
    "#         for ingredient in ingredient_list\n",
    "#         if ingredient.lower() in basic_ingredients\n",
    "#     ]\n",
    "\n",
    "# # test_df[\"filtered_ingredients\"] = np.where(\n",
    "# #     df[\"ingredients\"].isin(basic_ingredients), \"Yes\", \"No\"\n",
    "# # )\n",
    "\n",
    "# test_df[\"filtered_ingredients\"] = np.where(\n",
    "#     test_df[\"ingredients\"].isin(basic_ingredients),\n",
    "#     (test_df[\"ingredients\"].apply(filter_basic_ingredients())),\n",
    "# )"
   ]
  },
  {
   "cell_type": "code",
   "execution_count": null,
   "metadata": {},
   "outputs": [],
   "source": [
    "# def filter_basic_ingredients(ingredient_list):\n",
    "#     basic_ingredients = [\n",
    "#         \"salt\",\n",
    "#         \"oil\",\n",
    "#         \"water\",\n",
    "#     ]  # Removed the extra double quote in 'salt'\n",
    "\n",
    "#     return [\n",
    "#         ingredient\n",
    "#         for ingredient in ingredient_list\n",
    "#         if ingredient.lower() in basic_ingredients\n",
    "#     ]  # Use lower() to perform case-insensitive comparison\n",
    "\n",
    "\n",
    "# test_df[\"filtered_ingredients\"] = test_df[[\"ingredients\"][0]].apply(\n",
    "#     filter_basic_ingredients\n",
    "# )\n",
    "\n",
    "# # Display the modified DataFrame\n",
    "# test_df.head(1)"
   ]
  },
  {
   "cell_type": "code",
   "execution_count": null,
   "metadata": {},
   "outputs": [],
   "source": [
    "# def filter_basic_ingredients(ingredient_list):\n",
    "#     basic_ingredients = [\"salt\", \"oil\", \"water\"]\n",
    "\n",
    "#     filtered_list = []\n",
    "#     for sublist in ingredient_list:\n",
    "#         for ingredient in sublist:\n",
    "#             if ingredient.lower() in basic_ingredients:\n",
    "#                 filtered_list.append(ingredient.lower())\n",
    "\n",
    "#     return filtered_list"
   ]
  },
  {
   "cell_type": "code",
   "execution_count": null,
   "metadata": {},
   "outputs": [],
   "source": [
    "test_df[\"filtered_ingredients\"] = test_df[\"ingredients\"].apply(\n",
    "    filter_basic_ingredients()\n",
    ")\n",
    "\n",
    "# test_df[\"filtered_ingredients\"] = np.where(\n",
    "#     df[\"ingredients\"].isin(basic_ingredients), \"Yes\", \"No\"\n",
    "# )\n",
    "\n",
    "# test_df[\"filtered_ingredients\"] = filter_basic_ingredients(test_df[\"ingredients\"])\n",
    "\n",
    "\n",
    "# Display the modified DataFrame\n",
    "test_df.head(1)\n",
    "\n",
    "# look into  apply method, stack overflow\n",
    "# otherwise, find an alternative (copy column, extract ingredients, send to yanish)"
   ]
  }
 ],
 "metadata": {
  "kernelspec": {
   "display_name": "Python 3",
   "language": "python",
   "name": "python3"
  },
  "language_info": {
   "codemirror_mode": {
    "name": "ipython",
    "version": 3
   },
   "file_extension": ".py",
   "mimetype": "text/x-python",
   "name": "python",
   "nbconvert_exporter": "python",
   "pygments_lexer": "ipython3",
   "version": "3.11.5"
  }
 },
 "nbformat": 4,
 "nbformat_minor": 2
}
