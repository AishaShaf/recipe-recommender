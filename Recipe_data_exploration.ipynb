{
 "cells": [
  {
   "cell_type": "code",
   "execution_count": 2,
   "metadata": {},
   "outputs": [
    {
     "data": {
      "text/html": [
       "<div>\n",
       "<style scoped>\n",
       "    .dataframe tbody tr th:only-of-type {\n",
       "        vertical-align: middle;\n",
       "    }\n",
       "\n",
       "    .dataframe tbody tr th {\n",
       "        vertical-align: top;\n",
       "    }\n",
       "\n",
       "    .dataframe thead th {\n",
       "        text-align: right;\n",
       "    }\n",
       "</style>\n",
       "<table border=\"1\" class=\"dataframe\">\n",
       "  <thead>\n",
       "    <tr style=\"text-align: right;\">\n",
       "      <th></th>\n",
       "      <th>id</th>\n",
       "      <th>name</th>\n",
       "      <th>description</th>\n",
       "      <th>ingredients</th>\n",
       "      <th>ingredients_raw_str</th>\n",
       "      <th>serving_size</th>\n",
       "      <th>servings</th>\n",
       "      <th>steps</th>\n",
       "      <th>tags</th>\n",
       "      <th>search_terms</th>\n",
       "    </tr>\n",
       "  </thead>\n",
       "  <tbody>\n",
       "    <tr>\n",
       "      <th>0</th>\n",
       "      <td>96313</td>\n",
       "      <td>Grilled Garlic Cheese Grits</td>\n",
       "      <td>We love grits, this is another good way to serve them. A great alternative to a baked potato when served with grilled steak or chicken. I belive this recipe could be made with instant grits.The 2 1/2 hours for refrigeration is not include in time. The recipe comes from Tast of Home's Light and Tasty.</td>\n",
       "      <td>['water', 'grits', 'salt', 'cheddar cheese', 'garlic', 'olive oil']</td>\n",
       "      <td>[\"4   cups    water\",\"1   cup   uncooked old fashion grits\",\"1   teaspoon    salt\",\"4   ounces   shredded cheddar cheese\",\"1 -2   clove    garlic, minced \",\"1   tablespoon    olive oil\"]</td>\n",
       "      <td>1 (155 g)</td>\n",
       "      <td>8</td>\n",
       "      <td>['I a sauce pan, bring water to a boil; slowly add grits and salt, stirring constantly; Reduce heat:simmer, uncovered, for 40-45 minutes or untill thickened, stirrin occasionally.', 'Add cheese and garlic; stir until cheese is melted, Spray 9-inch baking dish with nonstick cooking spray; Cover and refrigerate for 2 to 2 1/2 hours or until frim.', 'Before starting the grill, coat the grill rack with nonstick cooking spray; Cut the grits into 3-inch squares; Brush both sides with olive oil.', 'Grill, covered, over medium heat for 4 to 6 minutes on each side or until lightly browned.']</td>\n",
       "      <td>['time-to-make', 'course', 'main-ingredient', 'preparation', 'occasion', 'side-dishes', 'eggs-dairy', 'refrigerator', 'diabetic', 'vegetarian', 'grains', 'cheese', 'stove-top', 'dietary', 'low-cholesterol', 'low-calorie', 'comfort-food', 'low-carb', 'low-in-something', 'pasta-rice-and-grains', 'brunch', 'taste-mood', 'equipment', 'presentation', 'served-hot', '4-hours-or-less']</td>\n",
       "      <td>{'diabetic', 'low-calorie', 'vegetarian', 'low-carb', 'side'}</td>\n",
       "    </tr>\n",
       "  </tbody>\n",
       "</table>\n",
       "</div>"
      ],
      "text/plain": [
       "      id                         name  \\\n",
       "0  96313  Grilled Garlic Cheese Grits   \n",
       "\n",
       "                                                                                                                                                                                                                                                                                                     description  \\\n",
       "0  We love grits, this is another good way to serve them. A great alternative to a baked potato when served with grilled steak or chicken. I belive this recipe could be made with instant grits.The 2 1/2 hours for refrigeration is not include in time. The recipe comes from Tast of Home's Light and Tasty.   \n",
       "\n",
       "                                                           ingredients  \\\n",
       "0  ['water', 'grits', 'salt', 'cheddar cheese', 'garlic', 'olive oil']   \n",
       "\n",
       "                                                                                                                                                                          ingredients_raw_str  \\\n",
       "0  [\"4   cups    water\",\"1   cup   uncooked old fashion grits\",\"1   teaspoon    salt\",\"4   ounces   shredded cheddar cheese\",\"1 -2   clove    garlic, minced \",\"1   tablespoon    olive oil\"]   \n",
       "\n",
       "  serving_size  servings  \\\n",
       "0    1 (155 g)         8   \n",
       "\n",
       "                                                                                                                                                                                                                                                                                                                                                                                                                                                                                                                                                                                                           steps  \\\n",
       "0  ['I a sauce pan, bring water to a boil; slowly add grits and salt, stirring constantly; Reduce heat:simmer, uncovered, for 40-45 minutes or untill thickened, stirrin occasionally.', 'Add cheese and garlic; stir until cheese is melted, Spray 9-inch baking dish with nonstick cooking spray; Cover and refrigerate for 2 to 2 1/2 hours or until frim.', 'Before starting the grill, coat the grill rack with nonstick cooking spray; Cut the grits into 3-inch squares; Brush both sides with olive oil.', 'Grill, covered, over medium heat for 4 to 6 minutes on each side or until lightly browned.']   \n",
       "\n",
       "                                                                                                                                                                                                                                                                                                                                                                                           tags  \\\n",
       "0  ['time-to-make', 'course', 'main-ingredient', 'preparation', 'occasion', 'side-dishes', 'eggs-dairy', 'refrigerator', 'diabetic', 'vegetarian', 'grains', 'cheese', 'stove-top', 'dietary', 'low-cholesterol', 'low-calorie', 'comfort-food', 'low-carb', 'low-in-something', 'pasta-rice-and-grains', 'brunch', 'taste-mood', 'equipment', 'presentation', 'served-hot', '4-hours-or-less']   \n",
       "\n",
       "                                                    search_terms  \n",
       "0  {'diabetic', 'low-calorie', 'vegetarian', 'low-carb', 'side'}  "
      ]
     },
     "execution_count": 2,
     "metadata": {},
     "output_type": "execute_result"
    }
   ],
   "source": [
    "import pandas as pd\n",
    "\n",
    "# Set the display options to show all columns and rows\n",
    "pd.set_option('display.max_columns', None)\n",
    "pd.set_option('display.max_rows', None)\n",
    "pd.set_option('display.max_colwidth', None)\n",
    "\n",
    "recipes_df = pd.read_csv('recipes_w_search_terms.csv')\n",
    "\n",
    "recipes_df.head(1)"
   ]
  },
  {
   "cell_type": "code",
   "execution_count": 3,
   "metadata": {},
   "outputs": [
    {
     "name": "stdout",
     "output_type": "stream",
     "text": [
      "(494963, 10)\n"
     ]
    }
   ],
   "source": [
    "# Get the shape of the DataFrame\n",
    "df_shape = recipes_df.shape\n",
    "print(df_shape)\n"
   ]
  },
  {
   "cell_type": "code",
   "execution_count": 4,
   "metadata": {},
   "outputs": [
    {
     "data": {
      "text/html": [
       "<div>\n",
       "<style scoped>\n",
       "    .dataframe tbody tr th:only-of-type {\n",
       "        vertical-align: middle;\n",
       "    }\n",
       "\n",
       "    .dataframe tbody tr th {\n",
       "        vertical-align: top;\n",
       "    }\n",
       "\n",
       "    .dataframe thead th {\n",
       "        text-align: right;\n",
       "    }\n",
       "</style>\n",
       "<table border=\"1\" class=\"dataframe\">\n",
       "  <thead>\n",
       "    <tr style=\"text-align: right;\">\n",
       "      <th></th>\n",
       "      <th>id</th>\n",
       "      <th>servings</th>\n",
       "    </tr>\n",
       "  </thead>\n",
       "  <tbody>\n",
       "    <tr>\n",
       "      <th>count</th>\n",
       "      <td>494963.000000</td>\n",
       "      <td>494963.000000</td>\n",
       "    </tr>\n",
       "    <tr>\n",
       "      <th>mean</th>\n",
       "      <td>268932.473191</td>\n",
       "      <td>7.063164</td>\n",
       "    </tr>\n",
       "    <tr>\n",
       "      <th>std</th>\n",
       "      <td>154558.312287</td>\n",
       "      <td>94.677417</td>\n",
       "    </tr>\n",
       "    <tr>\n",
       "      <th>min</th>\n",
       "      <td>38.000000</td>\n",
       "      <td>1.000000</td>\n",
       "    </tr>\n",
       "    <tr>\n",
       "      <th>25%</th>\n",
       "      <td>135085.500000</td>\n",
       "      <td>4.000000</td>\n",
       "    </tr>\n",
       "    <tr>\n",
       "      <th>50%</th>\n",
       "      <td>267958.000000</td>\n",
       "      <td>4.000000</td>\n",
       "    </tr>\n",
       "    <tr>\n",
       "      <th>75%</th>\n",
       "      <td>402274.500000</td>\n",
       "      <td>8.000000</td>\n",
       "    </tr>\n",
       "    <tr>\n",
       "      <th>max</th>\n",
       "      <td>537804.000000</td>\n",
       "      <td>32767.000000</td>\n",
       "    </tr>\n",
       "  </tbody>\n",
       "</table>\n",
       "</div>"
      ],
      "text/plain": [
       "                  id       servings\n",
       "count  494963.000000  494963.000000\n",
       "mean   268932.473191       7.063164\n",
       "std    154558.312287      94.677417\n",
       "min        38.000000       1.000000\n",
       "25%    135085.500000       4.000000\n",
       "50%    267958.000000       4.000000\n",
       "75%    402274.500000       8.000000\n",
       "max    537804.000000   32767.000000"
      ]
     },
     "execution_count": 4,
     "metadata": {},
     "output_type": "execute_result"
    }
   ],
   "source": [
    "# Get the descriptive statistics of the DataFrame\n",
    "recipes_df.describe()"
   ]
  },
  {
   "cell_type": "code",
   "execution_count": 5,
   "metadata": {},
   "outputs": [
    {
     "data": {
      "text/plain": [
       "id                        0\n",
       "name                      0\n",
       "description            9601\n",
       "ingredients               0\n",
       "ingredients_raw_str       0\n",
       "serving_size              0\n",
       "servings                  0\n",
       "steps                     0\n",
       "tags                      0\n",
       "search_terms              0\n",
       "dtype: int64"
      ]
     },
     "execution_count": 5,
     "metadata": {},
     "output_type": "execute_result"
    }
   ],
   "source": [
    "# Find Null values\n",
    "null_values = recipes_df.isna().sum()\n",
    "null_values\n"
   ]
  },
  {
   "cell_type": "code",
   "execution_count": 6,
   "metadata": {},
   "outputs": [
    {
     "data": {
      "text/plain": [
       "0"
      ]
     },
     "execution_count": 6,
     "metadata": {},
     "output_type": "execute_result"
    }
   ],
   "source": [
    "# Find Duplicate values \n",
    "duplicate_rows = recipes_df.duplicated().sum()\n",
    "duplicate_rows"
   ]
  },
  {
   "cell_type": "code",
   "execution_count": 7,
   "metadata": {},
   "outputs": [
    {
     "data": {
      "text/html": [
       "<div>\n",
       "<style scoped>\n",
       "    .dataframe tbody tr th:only-of-type {\n",
       "        vertical-align: middle;\n",
       "    }\n",
       "\n",
       "    .dataframe tbody tr th {\n",
       "        vertical-align: top;\n",
       "    }\n",
       "\n",
       "    .dataframe thead th {\n",
       "        text-align: right;\n",
       "    }\n",
       "</style>\n",
       "<table border=\"1\" class=\"dataframe\">\n",
       "  <thead>\n",
       "    <tr style=\"text-align: right;\">\n",
       "      <th></th>\n",
       "      <th>id</th>\n",
       "      <th>name</th>\n",
       "      <th>description</th>\n",
       "      <th>ingredients</th>\n",
       "      <th>ingredients_raw_str</th>\n",
       "      <th>serving_size</th>\n",
       "      <th>servings</th>\n",
       "      <th>steps</th>\n",
       "      <th>tags</th>\n",
       "      <th>search_terms</th>\n",
       "    </tr>\n",
       "  </thead>\n",
       "  <tbody>\n",
       "    <tr>\n",
       "      <th>24113</th>\n",
       "      <td>417020</td>\n",
       "      <td>Amaranth &amp;amp; Whole Wheat Bread for Bread Machine</td>\n",
       "      <td>This recipe is adapted from The Bread Machine Cookbook by Donna Rathmell German. I used applesauce rather than oil, and whole wheat flour rather than bread flour. I omitted nonfat dry milk powder and chopped walnuts, and added flax meal, vital wheat gluten, and oat bran. The amounts here will make one large (2 lb) loaf.</td>\n",
       "      <td>['water', 'applesauce', 'honey', 'egg', 'vanilla extract', 'salt', 'amaranth flour', 'whole wheat flour', 'vital wheat gluten', 'flax seed meal', 'oat bran', 'yeast']</td>\n",
       "      <td>[\"1 1/4  cups    water (warm)\",\"2 1/2  tablespoons    applesauce (or 2 generous Tablespoons)\",\"1/4  cup    honey\",\"1       egg (room temperature)\",\"1   teaspoon    vanilla extract\",\"1 1/2  teaspoons    salt\",\"2/3  cup    amaranth flour\",\"3   cups    whole wheat flour\",\"3   tablespoons    vital wheat gluten\",\"2   tablespoons    flax seed meal\",\"2   tablespoons    oat bran\",\"2   teaspoons    yeast\"]</td>\n",
       "      <td>1 (67 g)</td>\n",
       "      <td>14</td>\n",
       "      <td>[\"I used the Large Loaf, Whole Wheat, Light Crust Cycle for my machine--follow directions for your bread machine. I put all wet ingredients into the bread machine mixer bowl first. Then I mix all dry ingredients together in a separate bowl except yeast, particularly so the vital wheat gluten won't clump up. Pour dry ingredients on top of wet, add yeast, and there you go!\"]</td>\n",
       "      <td>['lactose', 'weeknight', 'time-to-make', 'course', 'main-ingredient', 'preparation', 'occasion', 'for-large-groups', 'breads', 'bread-machine', 'easy', 'vegetarian', 'grains', 'dietary', 'yeast', 'free-of-something', 'pasta-rice-and-grains', 'equipment', 'small-appliance', 'number-of-servings', '3-steps-or-less', '4-hours-or-less']</td>\n",
       "      <td>{'bread', 'lactose-free', 'vegetarian'}</td>\n",
       "    </tr>\n",
       "    <tr>\n",
       "      <th>167286</th>\n",
       "      <td>330105</td>\n",
       "      <td>Honey Whole Wheat Bread for Bread Machine</td>\n",
       "      <td>Yummy bread, great for a bread machine</td>\n",
       "      <td>['warm water', 'skim milk', 'salt', 'honey', 'butter', 'white flour', 'whole wheat flour', 'vital wheat gluten', 'fast rising yeast']</td>\n",
       "      <td>[\"1   cup    warm water\",\"1   tablespoon    skim milk\",\"1 1/2  teaspoons    salt\",\"1/4  cup    honey\",\"1 1/2  tablespoons    butter\",\"1 1/2  cups    white flour\",\"1 1/2  cups    whole wheat flour\",\"1 1/2  tablespoons    vital wheat gluten\",\"1 1/2  teaspoons    fast rising yeast\"]</td>\n",
       "      <td>1 (57 g)</td>\n",
       "      <td>13</td>\n",
       "      <td>['Select whole wheat or basic/white setting, and medium or light crust.', 'Remove baked bread from machine and cool before cutting.']</td>\n",
       "      <td>['course', 'preparation', 'for-large-groups', 'breads', 'easy', 'dietary', 'low-cholesterol', 'low-in-something', 'number-of-servings', '3-steps-or-less']</td>\n",
       "      <td>{'bread'}</td>\n",
       "    </tr>\n",
       "    <tr>\n",
       "      <th>178985</th>\n",
       "      <td>470360</td>\n",
       "      <td>100% Whole Wheat Bread for Bread Machine</td>\n",
       "      <td>I based this recipe on one for \"honey whole wheat bread\" I found on the back of a bag of Hodgson Mill Flour. I could never keep that one from falling in my bread machine, so I came up with this. There is literally no preparation involved, just throw all the ingredients into the container. It is the only completely whole wheat bread recipe I've used that turns out well for me, every time.</td>\n",
       "      <td>['egg', 'water', 'sugar', 'vegetable oil', 'whole wheat flour', 'white whole wheat flour', 'wheat germ', 'oat bran', 'vital wheat gluten', 'salt', 'yeast']</td>\n",
       "      <td>[\"1       egg, beaten \",\"1   cup    water\",\"3   tablespoons    sugar\",\"2 1/4  tablespoons    vegetable oil\",\"1   cup    whole wheat flour\",\"1 1/4  cups    white whole wheat flour\",\"2   tablespoons    wheat germ\",\"1   tablespoon    oat bran\",\"4   teaspoons    vital wheat gluten\",\"1 1/4  teaspoons    salt\",\"2 1/4  teaspoons    yeast\"]</td>\n",
       "      <td>1 (55 g)</td>\n",
       "      <td>12</td>\n",
       "      <td>['Place beaten egg, water, sugar and oil in bread machine. Add flours, oat bran, wheat germ, vital wheat gluten, and salt. Add yeast last. Use whole wheat setting.']</td>\n",
       "      <td>['time-to-make', 'course', 'main-ingredient', 'preparation', 'breads', 'easy', 'grains', 'yeast', 'pasta-rice-and-grains', '3-steps-or-less']</td>\n",
       "      <td>{'bread'}</td>\n",
       "    </tr>\n",
       "    <tr>\n",
       "      <th>377931</th>\n",
       "      <td>241489</td>\n",
       "      <td>100% Whole Wheat Bread for Bread Machine</td>\n",
       "      <td>From King Arthur Flour.  \\nCooking time I guess is depending on your machine.</td>\n",
       "      <td>['water', 'olive oil', 'honey', 'whole wheat flour', 'sunflower seeds', 'vital wheat gluten', 'salt', 'yeast']</td>\n",
       "      <td>[\"1 1/4  cups    water\",\"2   tablespoons    olive oil or 2   tablespoons    vegetable oil\",\"1/4  cup    honey or 1/4  cup    maple syrup\",\"3 1/2  cups   100% whole wheat flour\",\"1/4  cup    sesame seeds or 1/4  cup    flax seed\",\"1   tablespoon    vital wheat gluten\",\"1 1/2  teaspoons    salt\",\"1 1/2  teaspoons    yeast\"]</td>\n",
       "      <td>1 (878 g)</td>\n",
       "      <td>1</td>\n",
       "      <td>['Put all ingredients in bread pan in the order listed. Program for basic white and start.']</td>\n",
       "      <td>['time-to-make', 'course', 'preparation', 'breads', 'bread-machine', 'easy', 'equipment', 'small-appliance', '3-steps-or-less', '4-hours-or-less']</td>\n",
       "      <td>{'bread'}</td>\n",
       "    </tr>\n",
       "    <tr>\n",
       "      <th>419158</th>\n",
       "      <td>427021</td>\n",
       "      <td>Vegan Whole Wheat Bread for Bread Machine</td>\n",
       "      <td>Vegan whole wheat bread for bread machine.  Experienced bakers could easily do this without a machine.</td>\n",
       "      <td>['warm water', 'olive oil', 'maple syrup', 'egg substitute', 'vanilla', 'whole wheat flour', 'bread flour', 'banana', 'salt', 'dry yeast']</td>\n",
       "      <td>[\"1/2  cup    warm water\",\"1   tablespoon    olive oil\",\"3   tablespoons    maple syrup\",\"  egg substitute (equivalent to 1 egg)\",\"1/2  teaspoon    vanilla\",\"1   cup    whole wheat flour\",\"1 1/4  cups    bread flour\",\"1   small    banana, sliced \",\"1/2  teaspoon    salt\",\"1 1/2  teaspoons    dry yeast\"]</td>\n",
       "      <td>1 (580 g)</td>\n",
       "      <td>1</td>\n",
       "      <td>['Add ingredients to machine in order listed.  I used the basic bread setting for this recipe.  Makes a 1.5 lb. loaf.']</td>\n",
       "      <td>['time-to-make', 'course', 'main-ingredient', 'preparation', 'for-1-or-2', 'healthy', 'breads', 'bread-machine', 'easy', 'vegan', 'vegetarian', 'dietary', 'low-cholesterol', 'low-saturated-fat', 'healthy-2', 'low-in-something', 'pasta-rice-and-grains', 'equipment', 'small-appliance', 'number-of-servings', '3-steps-or-less', '4-hours-or-less']</td>\n",
       "      <td>{'bread', 'vegetarian', 'vegan'}</td>\n",
       "    </tr>\n",
       "  </tbody>\n",
       "</table>\n",
       "</div>"
      ],
      "text/plain": [
       "            id                                                name  \\\n",
       "24113   417020  Amaranth &amp; Whole Wheat Bread for Bread Machine   \n",
       "167286  330105           Honey Whole Wheat Bread for Bread Machine   \n",
       "178985  470360            100% Whole Wheat Bread for Bread Machine   \n",
       "377931  241489            100% Whole Wheat Bread for Bread Machine   \n",
       "419158  427021           Vegan Whole Wheat Bread for Bread Machine   \n",
       "\n",
       "                                                                                                                                                                                                                                                                                                                                                                                                   description  \\\n",
       "24113                                                                        This recipe is adapted from The Bread Machine Cookbook by Donna Rathmell German. I used applesauce rather than oil, and whole wheat flour rather than bread flour. I omitted nonfat dry milk powder and chopped walnuts, and added flax meal, vital wheat gluten, and oat bran. The amounts here will make one large (2 lb) loaf.   \n",
       "167286                                                                                                                                                                                                                                                                                                                                                                  Yummy bread, great for a bread machine   \n",
       "178985  I based this recipe on one for \"honey whole wheat bread\" I found on the back of a bag of Hodgson Mill Flour. I could never keep that one from falling in my bread machine, so I came up with this. There is literally no preparation involved, just throw all the ingredients into the container. It is the only completely whole wheat bread recipe I've used that turns out well for me, every time.   \n",
       "377931                                                                                                                                                                                                                                                                                                                           From King Arthur Flour.  \\nCooking time I guess is depending on your machine.   \n",
       "419158                                                                                                                                                                                                                                                                                                  Vegan whole wheat bread for bread machine.  Experienced bakers could easily do this without a machine.   \n",
       "\n",
       "                                                                                                                                                                   ingredients  \\\n",
       "24113   ['water', 'applesauce', 'honey', 'egg', 'vanilla extract', 'salt', 'amaranth flour', 'whole wheat flour', 'vital wheat gluten', 'flax seed meal', 'oat bran', 'yeast']   \n",
       "167286                                   ['warm water', 'skim milk', 'salt', 'honey', 'butter', 'white flour', 'whole wheat flour', 'vital wheat gluten', 'fast rising yeast']   \n",
       "178985             ['egg', 'water', 'sugar', 'vegetable oil', 'whole wheat flour', 'white whole wheat flour', 'wheat germ', 'oat bran', 'vital wheat gluten', 'salt', 'yeast']   \n",
       "377931                                                          ['water', 'olive oil', 'honey', 'whole wheat flour', 'sunflower seeds', 'vital wheat gluten', 'salt', 'yeast']   \n",
       "419158                              ['warm water', 'olive oil', 'maple syrup', 'egg substitute', 'vanilla', 'whole wheat flour', 'bread flour', 'banana', 'salt', 'dry yeast']   \n",
       "\n",
       "                                                                                                                                                                                                                                                                                                                                                                                                     ingredients_raw_str  \\\n",
       "24113   [\"1 1/4  cups    water (warm)\",\"2 1/2  tablespoons    applesauce (or 2 generous Tablespoons)\",\"1/4  cup    honey\",\"1       egg (room temperature)\",\"1   teaspoon    vanilla extract\",\"1 1/2  teaspoons    salt\",\"2/3  cup    amaranth flour\",\"3   cups    whole wheat flour\",\"3   tablespoons    vital wheat gluten\",\"2   tablespoons    flax seed meal\",\"2   tablespoons    oat bran\",\"2   teaspoons    yeast\"]   \n",
       "167286                                                                                                                          [\"1   cup    warm water\",\"1   tablespoon    skim milk\",\"1 1/2  teaspoons    salt\",\"1/4  cup    honey\",\"1 1/2  tablespoons    butter\",\"1 1/2  cups    white flour\",\"1 1/2  cups    whole wheat flour\",\"1 1/2  tablespoons    vital wheat gluten\",\"1 1/2  teaspoons    fast rising yeast\"]   \n",
       "178985                                                                    [\"1       egg, beaten \",\"1   cup    water\",\"3   tablespoons    sugar\",\"2 1/4  tablespoons    vegetable oil\",\"1   cup    whole wheat flour\",\"1 1/4  cups    white whole wheat flour\",\"2   tablespoons    wheat germ\",\"1   tablespoon    oat bran\",\"4   teaspoons    vital wheat gluten\",\"1 1/4  teaspoons    salt\",\"2 1/4  teaspoons    yeast\"]   \n",
       "377931                                                                               [\"1 1/4  cups    water\",\"2   tablespoons    olive oil or 2   tablespoons    vegetable oil\",\"1/4  cup    honey or 1/4  cup    maple syrup\",\"3 1/2  cups   100% whole wheat flour\",\"1/4  cup    sesame seeds or 1/4  cup    flax seed\",\"1   tablespoon    vital wheat gluten\",\"1 1/2  teaspoons    salt\",\"1 1/2  teaspoons    yeast\"]   \n",
       "419158                                                                                                  [\"1/2  cup    warm water\",\"1   tablespoon    olive oil\",\"3   tablespoons    maple syrup\",\"  egg substitute (equivalent to 1 egg)\",\"1/2  teaspoon    vanilla\",\"1   cup    whole wheat flour\",\"1 1/4  cups    bread flour\",\"1   small    banana, sliced \",\"1/2  teaspoon    salt\",\"1 1/2  teaspoons    dry yeast\"]   \n",
       "\n",
       "       serving_size  servings  \\\n",
       "24113      1 (67 g)        14   \n",
       "167286     1 (57 g)        13   \n",
       "178985     1 (55 g)        12   \n",
       "377931    1 (878 g)         1   \n",
       "419158    1 (580 g)         1   \n",
       "\n",
       "                                                                                                                                                                                                                                                                                                                                                                                          steps  \\\n",
       "24113   [\"I used the Large Loaf, Whole Wheat, Light Crust Cycle for my machine--follow directions for your bread machine. I put all wet ingredients into the bread machine mixer bowl first. Then I mix all dry ingredients together in a separate bowl except yeast, particularly so the vital wheat gluten won't clump up. Pour dry ingredients on top of wet, add yeast, and there you go!\"]   \n",
       "167286                                                                                                                                                                                                                                                    ['Select whole wheat or basic/white setting, and medium or light crust.', 'Remove baked bread from machine and cool before cutting.']   \n",
       "178985                                                                                                                                                                                                                    ['Place beaten egg, water, sugar and oil in bread machine. Add flours, oat bran, wheat germ, vital wheat gluten, and salt. Add yeast last. Use whole wheat setting.']   \n",
       "377931                                                                                                                                                                                                                                                                                             ['Put all ingredients in bread pan in the order listed. Program for basic white and start.']   \n",
       "419158                                                                                                                                                                                                                                                                  ['Add ingredients to machine in order listed.  I used the basic bread setting for this recipe.  Makes a 1.5 lb. loaf.']   \n",
       "\n",
       "                                                                                                                                                                                                                                                                                                                                                            tags  \\\n",
       "24113              ['lactose', 'weeknight', 'time-to-make', 'course', 'main-ingredient', 'preparation', 'occasion', 'for-large-groups', 'breads', 'bread-machine', 'easy', 'vegetarian', 'grains', 'dietary', 'yeast', 'free-of-something', 'pasta-rice-and-grains', 'equipment', 'small-appliance', 'number-of-servings', '3-steps-or-less', '4-hours-or-less']   \n",
       "167286                                                                                                                                                                                                ['course', 'preparation', 'for-large-groups', 'breads', 'easy', 'dietary', 'low-cholesterol', 'low-in-something', 'number-of-servings', '3-steps-or-less']   \n",
       "178985                                                                                                                                                                                                             ['time-to-make', 'course', 'main-ingredient', 'preparation', 'breads', 'easy', 'grains', 'yeast', 'pasta-rice-and-grains', '3-steps-or-less']   \n",
       "377931                                                                                                                                                                                                        ['time-to-make', 'course', 'preparation', 'breads', 'bread-machine', 'easy', 'equipment', 'small-appliance', '3-steps-or-less', '4-hours-or-less']   \n",
       "419158  ['time-to-make', 'course', 'main-ingredient', 'preparation', 'for-1-or-2', 'healthy', 'breads', 'bread-machine', 'easy', 'vegan', 'vegetarian', 'dietary', 'low-cholesterol', 'low-saturated-fat', 'healthy-2', 'low-in-something', 'pasta-rice-and-grains', 'equipment', 'small-appliance', 'number-of-servings', '3-steps-or-less', '4-hours-or-less']   \n",
       "\n",
       "                                   search_terms  \n",
       "24113   {'bread', 'lactose-free', 'vegetarian'}  \n",
       "167286                                {'bread'}  \n",
       "178985                                {'bread'}  \n",
       "377931                                {'bread'}  \n",
       "419158         {'bread', 'vegetarian', 'vegan'}  "
      ]
     },
     "execution_count": 7,
     "metadata": {},
     "output_type": "execute_result"
    }
   ],
   "source": [
    "desired_rows = recipes_df[recipes_df['name'].str.contains('whole wheat bread for bread machine', case=False, regex=True)]\n",
    "desired_rows"
   ]
  },
  {
   "cell_type": "code",
   "execution_count": 8,
   "metadata": {},
   "outputs": [
    {
     "data": {
      "text/plain": [
       "187"
      ]
     },
     "execution_count": 8,
     "metadata": {},
     "output_type": "execute_result"
    }
   ],
   "source": [
    "recipes_df[[\"ingredients\", \"name\", \"description\"]].duplicated().sum()"
   ]
  }
 ],
 "metadata": {
  "kernelspec": {
   "display_name": "Python 3",
   "language": "python",
   "name": "python3"
  },
  "language_info": {
   "codemirror_mode": {
    "name": "ipython",
    "version": 3
   },
   "file_extension": ".py",
   "mimetype": "text/x-python",
   "name": "python",
   "nbconvert_exporter": "python",
   "pygments_lexer": "ipython3",
   "version": "3.11.5"
  }
 },
 "nbformat": 4,
 "nbformat_minor": 2
}
